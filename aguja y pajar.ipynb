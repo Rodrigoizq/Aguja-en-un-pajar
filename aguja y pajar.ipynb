{
 "cells": [
  {
   "cell_type": "code",
   "execution_count": 1,
   "id": "d26f328b",
   "metadata": {},
   "outputs": [
    {
     "name": "stdout",
     "output_type": "stream",
     "text": [
      "encontre la aguja en la posicion 5\n"
     ]
    }
   ],
   "source": [
    "#este codigo debe encontrar una aguja en un pajar\n",
    "import numpy as np\n",
    "#creacion de array\n",
    "pajar = np.array([1,5,3,12,15,\"aguja\"])\n",
    "#busqueda de aguja en el pajar\n",
    "for i, value in enumerate(pajar):\n",
    "    if value == \"aguja\":\n",
    "        print(\"encontre la aguja en la posicion \" + str(i))\n",
    "\n",
    "\n",
    "\n",
    "\n",
    "\n"
   ]
  },
  {
   "cell_type": "code",
   "execution_count": 7,
   "id": "11d96e0b",
   "metadata": {},
   "outputs": [
    {
     "name": "stdout",
     "output_type": "stream",
     "text": [
      "['1' '5' '3' '12' '15' 'aguja']\n"
     ]
    }
   ],
   "source": []
  },
  {
   "cell_type": "code",
   "execution_count": null,
   "id": "aaefabb1",
   "metadata": {},
   "outputs": [],
   "source": []
  }
 ],
 "metadata": {
  "kernelspec": {
   "display_name": "Python 3 (ipykernel)",
   "language": "python",
   "name": "python3"
  },
  "language_info": {
   "codemirror_mode": {
    "name": "ipython",
    "version": 3
   },
   "file_extension": ".py",
   "mimetype": "text/x-python",
   "name": "python",
   "nbconvert_exporter": "python",
   "pygments_lexer": "ipython3",
   "version": "3.10.3"
  }
 },
 "nbformat": 4,
 "nbformat_minor": 5
}
